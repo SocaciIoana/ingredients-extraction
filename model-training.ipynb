{
 "cells": [
  {
   "cell_type": "markdown",
   "metadata": {},
   "source": [
    "### Named Entity Recognition for Recipe Ingredient Extraction"
   ]
  },
  {
   "cell_type": "code",
   "execution_count": 294,
   "metadata": {},
   "outputs": [],
   "source": [
    "import os\n",
    "import re\n",
    "import pickle\n",
    "import numpy as np\n",
    "import pandas as pd\n",
    "import matplotlib.pyplot as plt"
   ]
  },
  {
   "cell_type": "code",
   "execution_count": 239,
   "metadata": {},
   "outputs": [],
   "source": [
    "from tensorflow.keras import Model, Input\n",
    "from sklearn.model_selection import train_test_split\n",
    "from tensorflow.keras.preprocessing.text import Tokenizer\n",
    "from tensorflow.keras.layers import LSTM, Embedding, Dense\n",
    "from tensorflow.keras.preprocessing.sequence import pad_sequences\n",
    "from tensorflow.keras.callbacks import ModelCheckpoint, EarlyStopping\n",
    "from tensorflow.keras.layers import TimeDistributed, SpatialDropout1D, Bidirectional"
   ]
  },
  {
   "cell_type": "code",
   "execution_count": 189,
   "metadata": {},
   "outputs": [],
   "source": [
    "recipes = pd.read_csv(os.path.join('data', 'cleaned_recipes.csv'))"
   ]
  },
  {
   "cell_type": "code",
   "execution_count": 190,
   "metadata": {},
   "outputs": [],
   "source": [
    "recipes.drop(columns=['Unnamed: 0'], inplace=True)"
   ]
  },
  {
   "cell_type": "code",
   "execution_count": 191,
   "metadata": {},
   "outputs": [
    {
     "data": {
      "text/html": [
       "<div>\n",
       "<style scoped>\n",
       "    .dataframe tbody tr th:only-of-type {\n",
       "        vertical-align: middle;\n",
       "    }\n",
       "\n",
       "    .dataframe tbody tr th {\n",
       "        vertical-align: top;\n",
       "    }\n",
       "\n",
       "    .dataframe thead th {\n",
       "        text-align: right;\n",
       "    }\n",
       "</style>\n",
       "<table border=\"1\" class=\"dataframe\">\n",
       "  <thead>\n",
       "    <tr style=\"text-align: right;\">\n",
       "      <th></th>\n",
       "      <th>Ingredients</th>\n",
       "      <th>Directions</th>\n",
       "    </tr>\n",
       "  </thead>\n",
       "  <tbody>\n",
       "    <tr>\n",
       "      <th>0</th>\n",
       "      <td>butter,yeast,flour,egg,sugar,water,salt</td>\n",
       "      <td>Dissolve yeast in warm water.**Stir in sugar, ...</td>\n",
       "    </tr>\n",
       "    <tr>\n",
       "      <th>1</th>\n",
       "      <td>butter,baking powder,milk,orange juice,vanilla...</td>\n",
       "      <td>'Preheat oven to 350 degrees F (175 degrees C)...</td>\n",
       "    </tr>\n",
       "    <tr>\n",
       "      <th>2</th>\n",
       "      <td>sour cream,baking powder,flour,egg,sugar,cinna...</td>\n",
       "      <td>Preheat oven to 350 degrees F (175 degrees C)....</td>\n",
       "    </tr>\n",
       "    <tr>\n",
       "      <th>3</th>\n",
       "      <td>baking powder,milk,oat,flour,egg,baking soda,c...</td>\n",
       "      <td>Preheat oven to 350 degrees F (175 degrees C)....</td>\n",
       "    </tr>\n",
       "    <tr>\n",
       "      <th>4</th>\n",
       "      <td>baking powder,buttermilk,oat,flour,egg,baking ...</td>\n",
       "      <td>Mix oats with buttermilk.  Let stand for 1/2 h...</td>\n",
       "    </tr>\n",
       "    <tr>\n",
       "      <th>5</th>\n",
       "      <td>yeast,milk,flour,egg,sugar,shortening,fruit,salt</td>\n",
       "      <td>Cream shortening and sugar together.  Stir in ...</td>\n",
       "    </tr>\n",
       "    <tr>\n",
       "      <th>6</th>\n",
       "      <td>brown sugar,yeast,shortening,water,salt,bread,...</td>\n",
       "      <td>Dissolve brown sugar in 1 cup hot water.  Add ...</td>\n",
       "    </tr>\n",
       "    <tr>\n",
       "      <th>7</th>\n",
       "      <td>flour</td>\n",
       "      <td>Add the ingredients to the pan of your bread m...</td>\n",
       "    </tr>\n",
       "    <tr>\n",
       "      <th>8</th>\n",
       "      <td>baking powder,margarine,vanilla,flour,banana,e...</td>\n",
       "      <td>Preheat oven to 350 degrees F (175 degrees C)....</td>\n",
       "    </tr>\n",
       "    <tr>\n",
       "      <th>9</th>\n",
       "      <td>pimento,milk,pepper,bell pepper,egg,cornmeal,g...</td>\n",
       "      <td>Preheat oven to 350 degrees F (175 degrees C)....</td>\n",
       "    </tr>\n",
       "    <tr>\n",
       "      <th>10</th>\n",
       "      <td>baking powder,milk,oat,flour,egg,sugar,shorten...</td>\n",
       "      <td>Preheat oven to 400 degrees F (205 degrees C)....</td>\n",
       "    </tr>\n",
       "    <tr>\n",
       "      <th>11</th>\n",
       "      <td>milk,vanilla,egg,salt,bread</td>\n",
       "      <td>Beat together egg, milk, salt, desired spices ...</td>\n",
       "    </tr>\n",
       "    <tr>\n",
       "      <th>12</th>\n",
       "      <td>yeast,baking powder,buttermilk,flour,sugar,bak...</td>\n",
       "      <td>In a small bowl, dissolve yeast in warm water....</td>\n",
       "    </tr>\n",
       "    <tr>\n",
       "      <th>13</th>\n",
       "      <td>cocoa,vanilla,flour,egg,chocolate,sugar,baking...</td>\n",
       "      <td>'Preheat oven to 350 degrees F (175 degrees C)...</td>\n",
       "    </tr>\n",
       "    <tr>\n",
       "      <th>14</th>\n",
       "      <td>cocoa,molasses,yeast,milk,flour,cornmeal,salt,...</td>\n",
       "      <td>Mix well bread flour, rye flour, cornmeal, sal...</td>\n",
       "    </tr>\n",
       "    <tr>\n",
       "      <th>15</th>\n",
       "      <td>yeast,yogurt,ghee,flour,sugar,water,salt</td>\n",
       "      <td>Whisk the warm water with the yeast and sugar ...</td>\n",
       "    </tr>\n",
       "    <tr>\n",
       "      <th>16</th>\n",
       "      <td>buttermilk,flour,corn syrup,sugar,cardamom,soda</td>\n",
       "      <td>In a large bowl, mix by hand sour milk or butt...</td>\n",
       "    </tr>\n",
       "    <tr>\n",
       "      <th>17</th>\n",
       "      <td>baking powder,clove,flour,banana,egg,sugar,sho...</td>\n",
       "      <td>'Preheat oven to 325 degrees F (165 degrees C)...</td>\n",
       "    </tr>\n",
       "    <tr>\n",
       "      <th>18</th>\n",
       "      <td>bread</td>\n",
       "      <td>Place ingredients in the bread machine pan in ...</td>\n",
       "    </tr>\n",
       "    <tr>\n",
       "      <th>19</th>\n",
       "      <td>butter,sour cream,baking powder,milk,oat,flour...</td>\n",
       "      <td>Preheat oven to 375 degrees F (190 degrees C)....</td>\n",
       "    </tr>\n",
       "    <tr>\n",
       "      <th>20</th>\n",
       "      <td>carrot,pineapple,flour,egg,sugar,baking soda,s...</td>\n",
       "      <td>Preheat oven to 375 degrees F (190 degrees C)....</td>\n",
       "    </tr>\n",
       "    <tr>\n",
       "      <th>21</th>\n",
       "      <td>bread</td>\n",
       "      <td>Place ingredients into the bread machine in or...</td>\n",
       "    </tr>\n",
       "    <tr>\n",
       "      <th>22</th>\n",
       "      <td>baking powder,vanilla,flour,egg,sugar,baking s...</td>\n",
       "      <td>Preheat oven to 350 degrees F (175 degrees C)....</td>\n",
       "    </tr>\n",
       "    <tr>\n",
       "      <th>23</th>\n",
       "      <td>butter,baking powder,yeast,buttermilk,flour,su...</td>\n",
       "      <td>Dissolve yeast in warm water.**Sift together f...</td>\n",
       "    </tr>\n",
       "    <tr>\n",
       "      <th>24</th>\n",
       "      <td>bread,fruit</td>\n",
       "      <td>Place all of the ingredients except for the mi...</td>\n",
       "    </tr>\n",
       "    <tr>\n",
       "      <th>25</th>\n",
       "      <td>baking powder,milk,flour,sugar,shortening,salt</td>\n",
       "      <td>Preheat oven to 425 degrees F (220 degrees C)....</td>\n",
       "    </tr>\n",
       "    <tr>\n",
       "      <th>26</th>\n",
       "      <td>bread</td>\n",
       "      <td>Add ingredients to the pan of the bread machin...</td>\n",
       "    </tr>\n",
       "    <tr>\n",
       "      <th>27</th>\n",
       "      <td>bread</td>\n",
       "      <td>Place ingredients in the pan of the bread mach...</td>\n",
       "    </tr>\n",
       "    <tr>\n",
       "      <th>28</th>\n",
       "      <td>baking powder,pineapple,vanilla,flour,egg,suga...</td>\n",
       "      <td>Combine flour, baking powder, baking soda, and...</td>\n",
       "    </tr>\n",
       "    <tr>\n",
       "      <th>29</th>\n",
       "      <td>butter,flour,cream cheese,egg,pumpkin,baking s...</td>\n",
       "      <td>Blend cream cheese, 1/4 cup sugar, and 1 beate...</td>\n",
       "    </tr>\n",
       "    <tr>\n",
       "      <th>...</th>\n",
       "      <td>...</td>\n",
       "      <td>...</td>\n",
       "    </tr>\n",
       "    <tr>\n",
       "      <th>11927</th>\n",
       "      <td>flour,water,cake,egg</td>\n",
       "      <td>Preheat the oven to 375 degrees F (190 degrees...</td>\n",
       "    </tr>\n",
       "    <tr>\n",
       "      <th>11928</th>\n",
       "      <td>vanilla,cream cheese,sugar</td>\n",
       "      <td>In a large bowl, beat cream cheese and sugar u...</td>\n",
       "    </tr>\n",
       "    <tr>\n",
       "      <th>11929</th>\n",
       "      <td>butter,pineapple,flour,egg,sugar,water,salt</td>\n",
       "      <td>In a large bowl, combine all-purpose, self-ris...</td>\n",
       "    </tr>\n",
       "    <tr>\n",
       "      <th>11930</th>\n",
       "      <td>sour cream,vanilla,cream cheese,egg,pumpkin,sugar</td>\n",
       "      <td>Preheat oven to 375 degrees F (190 degrees C.)...</td>\n",
       "    </tr>\n",
       "    <tr>\n",
       "      <th>11931</th>\n",
       "      <td>butter,milk,vanilla,egg,sugar,salt</td>\n",
       "      <td>Preheat oven to 425 degrees F (220 degrees C.)...</td>\n",
       "    </tr>\n",
       "    <tr>\n",
       "      <th>11932</th>\n",
       "      <td>butter,green onion,baking powder,milk,vegetabl...</td>\n",
       "      <td>Preheat oven to 350 degrees F (175 degrees C)....</td>\n",
       "    </tr>\n",
       "    <tr>\n",
       "      <th>11933</th>\n",
       "      <td>butter,milk,bake,cream cheese,flour,cranberry ...</td>\n",
       "      <td>Preheat oven to 425 degrees F (220 degrees C)....</td>\n",
       "    </tr>\n",
       "    <tr>\n",
       "      <th>11934</th>\n",
       "      <td>strawberry,vanilla,ice cream,cream,cranberry s...</td>\n",
       "      <td>Heat the cranberry juice in a medium saucepan ...</td>\n",
       "    </tr>\n",
       "    <tr>\n",
       "      <th>11935</th>\n",
       "      <td>green onion,olive,pepper,marjoram,garlic,green...</td>\n",
       "      <td>In a medium bowl, mix green onions, garlic, ol...</td>\n",
       "    </tr>\n",
       "    <tr>\n",
       "      <th>11936</th>\n",
       "      <td>butter,potato,pecan,flour,cinnamon,nutmeg,brow...</td>\n",
       "      <td>Place sweet potatoes in a large saucepan with ...</td>\n",
       "    </tr>\n",
       "    <tr>\n",
       "      <th>11937</th>\n",
       "      <td>butter,chicken broth,poultry,black pepper,cele...</td>\n",
       "      <td>Preheat oven to 350 degrees F (175 degrees C)....</td>\n",
       "    </tr>\n",
       "    <tr>\n",
       "      <th>11938</th>\n",
       "      <td>butter,clove,flour,egg,sugar,baking soda,cinna...</td>\n",
       "      <td>Preheat oven to 325 degrees F (165 degrees C)....</td>\n",
       "    </tr>\n",
       "    <tr>\n",
       "      <th>11939</th>\n",
       "      <td>garlic,black pepper,cinnamon,ketchup,paprika,s...</td>\n",
       "      <td>In a medium bowl, mix applesauce, ketchup, pac...</td>\n",
       "    </tr>\n",
       "    <tr>\n",
       "      <th>11940</th>\n",
       "      <td>clove,chili,garlic,black pepper,ginger,paprika...</td>\n",
       "      <td>In a large bowl, mix seasoning salt, paprika, ...</td>\n",
       "    </tr>\n",
       "    <tr>\n",
       "      <th>11941</th>\n",
       "      <td>mayonnaise,potato,garlic,oregano,pepper</td>\n",
       "      <td>'In a small bowl, mix mayonnaise, garlic, oreg...</td>\n",
       "    </tr>\n",
       "    <tr>\n",
       "      <th>11942</th>\n",
       "      <td>lemon,untreated cedar plank,black pepper,salmo...</td>\n",
       "      <td>Submerge untreated cedar plank in water. Soak ...</td>\n",
       "    </tr>\n",
       "    <tr>\n",
       "      <th>11943</th>\n",
       "      <td>clove,garlic,soy sauce,red wine,apple juice,ke...</td>\n",
       "      <td>In a large baking dish, mix together the pinea...</td>\n",
       "    </tr>\n",
       "    <tr>\n",
       "      <th>11944</th>\n",
       "      <td>coffee,1/3 oil,salt</td>\n",
       "      <td>Heat oil over medium-high heat in a cast iron ...</td>\n",
       "    </tr>\n",
       "    <tr>\n",
       "      <th>11945</th>\n",
       "      <td>tomato,red pepper</td>\n",
       "      <td>PREHEAT oven to 450 degrees F.  Place pizza cr...</td>\n",
       "    </tr>\n",
       "    <tr>\n",
       "      <th>11946</th>\n",
       "      <td>baking powder,pecan,vanilla,flour,egg,sugar,ba...</td>\n",
       "      <td>Preheat the oven to 375 degrees F (190 degrees...</td>\n",
       "    </tr>\n",
       "    <tr>\n",
       "      <th>11947</th>\n",
       "      <td>butter,buttermilk,flour,egg,sugar,baking soda,...</td>\n",
       "      <td>Preheat the oven to 400 degrees F (200 degrees...</td>\n",
       "    </tr>\n",
       "    <tr>\n",
       "      <th>11948</th>\n",
       "      <td>avocado,butter,baking powder,buttermilk,pecan,...</td>\n",
       "      <td>Preheat the oven to 350 degrees F (175 degrees...</td>\n",
       "    </tr>\n",
       "    <tr>\n",
       "      <th>11949</th>\n",
       "      <td>butter,lemon,yeast,milk,flour,egg,salt,almond,...</td>\n",
       "      <td>In a medium bowl, cream together the butter an...</td>\n",
       "    </tr>\n",
       "    <tr>\n",
       "      <th>11950</th>\n",
       "      <td>butter,milk,flour,sugar,baking soda,cream</td>\n",
       "      <td>Preheat the oven to 400 degrees F (200 degrees...</td>\n",
       "    </tr>\n",
       "    <tr>\n",
       "      <th>11951</th>\n",
       "      <td>butter,baking powder,milk,buttermilk,pecan,van...</td>\n",
       "      <td>Preheat oven to 350 degrees F (175 degrees C)....</td>\n",
       "    </tr>\n",
       "    <tr>\n",
       "      <th>11952</th>\n",
       "      <td>butter,cocoa powder,vanilla,sugar,coffee</td>\n",
       "      <td>'In a large bowl, combine confectioners'' suga...</td>\n",
       "    </tr>\n",
       "    <tr>\n",
       "      <th>11953</th>\n",
       "      <td>butter,vanilla,cream cheese,egg,chocolate,flou...</td>\n",
       "      <td>Preheat oven to 275 degrees F (135 degrees C)....</td>\n",
       "    </tr>\n",
       "    <tr>\n",
       "      <th>11954</th>\n",
       "      <td>butter,baking powder,milk,vanilla,flour,egg,su...</td>\n",
       "      <td>Preheat oven to 350 degrees F (175 degrees C)....</td>\n",
       "    </tr>\n",
       "    <tr>\n",
       "      <th>11955</th>\n",
       "      <td>butter,milk,vanilla,flour,egg,chocolate,sugar,...</td>\n",
       "      <td>Preheat oven to 350 degrees F (175 degrees C)....</td>\n",
       "    </tr>\n",
       "    <tr>\n",
       "      <th>11956</th>\n",
       "      <td>peach,lemon,baking powder,orange juice,vegetab...</td>\n",
       "      <td>Preheat oven to 350 degrees F (175 degrees C)....</td>\n",
       "    </tr>\n",
       "  </tbody>\n",
       "</table>\n",
       "<p>11957 rows × 2 columns</p>\n",
       "</div>"
      ],
      "text/plain": [
       "                                             Ingredients  \\\n",
       "0                butter,yeast,flour,egg,sugar,water,salt   \n",
       "1      butter,baking powder,milk,orange juice,vanilla...   \n",
       "2      sour cream,baking powder,flour,egg,sugar,cinna...   \n",
       "3      baking powder,milk,oat,flour,egg,baking soda,c...   \n",
       "4      baking powder,buttermilk,oat,flour,egg,baking ...   \n",
       "5       yeast,milk,flour,egg,sugar,shortening,fruit,salt   \n",
       "6      brown sugar,yeast,shortening,water,salt,bread,...   \n",
       "7                                                  flour   \n",
       "8      baking powder,margarine,vanilla,flour,banana,e...   \n",
       "9      pimento,milk,pepper,bell pepper,egg,cornmeal,g...   \n",
       "10     baking powder,milk,oat,flour,egg,sugar,shorten...   \n",
       "11                           milk,vanilla,egg,salt,bread   \n",
       "12     yeast,baking powder,buttermilk,flour,sugar,bak...   \n",
       "13     cocoa,vanilla,flour,egg,chocolate,sugar,baking...   \n",
       "14     cocoa,molasses,yeast,milk,flour,cornmeal,salt,...   \n",
       "15              yeast,yogurt,ghee,flour,sugar,water,salt   \n",
       "16       buttermilk,flour,corn syrup,sugar,cardamom,soda   \n",
       "17     baking powder,clove,flour,banana,egg,sugar,sho...   \n",
       "18                                                 bread   \n",
       "19     butter,sour cream,baking powder,milk,oat,flour...   \n",
       "20     carrot,pineapple,flour,egg,sugar,baking soda,s...   \n",
       "21                                                 bread   \n",
       "22     baking powder,vanilla,flour,egg,sugar,baking s...   \n",
       "23     butter,baking powder,yeast,buttermilk,flour,su...   \n",
       "24                                           bread,fruit   \n",
       "25        baking powder,milk,flour,sugar,shortening,salt   \n",
       "26                                                 bread   \n",
       "27                                                 bread   \n",
       "28     baking powder,pineapple,vanilla,flour,egg,suga...   \n",
       "29     butter,flour,cream cheese,egg,pumpkin,baking s...   \n",
       "...                                                  ...   \n",
       "11927                               flour,water,cake,egg   \n",
       "11928                         vanilla,cream cheese,sugar   \n",
       "11929        butter,pineapple,flour,egg,sugar,water,salt   \n",
       "11930  sour cream,vanilla,cream cheese,egg,pumpkin,sugar   \n",
       "11931                 butter,milk,vanilla,egg,sugar,salt   \n",
       "11932  butter,green onion,baking powder,milk,vegetabl...   \n",
       "11933  butter,milk,bake,cream cheese,flour,cranberry ...   \n",
       "11934  strawberry,vanilla,ice cream,cream,cranberry s...   \n",
       "11935  green onion,olive,pepper,marjoram,garlic,green...   \n",
       "11936  butter,potato,pecan,flour,cinnamon,nutmeg,brow...   \n",
       "11937  butter,chicken broth,poultry,black pepper,cele...   \n",
       "11938  butter,clove,flour,egg,sugar,baking soda,cinna...   \n",
       "11939  garlic,black pepper,cinnamon,ketchup,paprika,s...   \n",
       "11940  clove,chili,garlic,black pepper,ginger,paprika...   \n",
       "11941            mayonnaise,potato,garlic,oregano,pepper   \n",
       "11942  lemon,untreated cedar plank,black pepper,salmo...   \n",
       "11943  clove,garlic,soy sauce,red wine,apple juice,ke...   \n",
       "11944                                coffee,1/3 oil,salt   \n",
       "11945                                  tomato,red pepper   \n",
       "11946  baking powder,pecan,vanilla,flour,egg,sugar,ba...   \n",
       "11947  butter,buttermilk,flour,egg,sugar,baking soda,...   \n",
       "11948  avocado,butter,baking powder,buttermilk,pecan,...   \n",
       "11949  butter,lemon,yeast,milk,flour,egg,salt,almond,...   \n",
       "11950          butter,milk,flour,sugar,baking soda,cream   \n",
       "11951  butter,baking powder,milk,buttermilk,pecan,van...   \n",
       "11952           butter,cocoa powder,vanilla,sugar,coffee   \n",
       "11953  butter,vanilla,cream cheese,egg,chocolate,flou...   \n",
       "11954  butter,baking powder,milk,vanilla,flour,egg,su...   \n",
       "11955  butter,milk,vanilla,flour,egg,chocolate,sugar,...   \n",
       "11956  peach,lemon,baking powder,orange juice,vegetab...   \n",
       "\n",
       "                                              Directions  \n",
       "0      Dissolve yeast in warm water.**Stir in sugar, ...  \n",
       "1      'Preheat oven to 350 degrees F (175 degrees C)...  \n",
       "2      Preheat oven to 350 degrees F (175 degrees C)....  \n",
       "3      Preheat oven to 350 degrees F (175 degrees C)....  \n",
       "4      Mix oats with buttermilk.  Let stand for 1/2 h...  \n",
       "5      Cream shortening and sugar together.  Stir in ...  \n",
       "6      Dissolve brown sugar in 1 cup hot water.  Add ...  \n",
       "7      Add the ingredients to the pan of your bread m...  \n",
       "8      Preheat oven to 350 degrees F (175 degrees C)....  \n",
       "9      Preheat oven to 350 degrees F (175 degrees C)....  \n",
       "10     Preheat oven to 400 degrees F (205 degrees C)....  \n",
       "11     Beat together egg, milk, salt, desired spices ...  \n",
       "12     In a small bowl, dissolve yeast in warm water....  \n",
       "13     'Preheat oven to 350 degrees F (175 degrees C)...  \n",
       "14     Mix well bread flour, rye flour, cornmeal, sal...  \n",
       "15     Whisk the warm water with the yeast and sugar ...  \n",
       "16     In a large bowl, mix by hand sour milk or butt...  \n",
       "17     'Preheat oven to 325 degrees F (165 degrees C)...  \n",
       "18     Place ingredients in the bread machine pan in ...  \n",
       "19     Preheat oven to 375 degrees F (190 degrees C)....  \n",
       "20     Preheat oven to 375 degrees F (190 degrees C)....  \n",
       "21     Place ingredients into the bread machine in or...  \n",
       "22     Preheat oven to 350 degrees F (175 degrees C)....  \n",
       "23     Dissolve yeast in warm water.**Sift together f...  \n",
       "24     Place all of the ingredients except for the mi...  \n",
       "25     Preheat oven to 425 degrees F (220 degrees C)....  \n",
       "26     Add ingredients to the pan of the bread machin...  \n",
       "27     Place ingredients in the pan of the bread mach...  \n",
       "28     Combine flour, baking powder, baking soda, and...  \n",
       "29     Blend cream cheese, 1/4 cup sugar, and 1 beate...  \n",
       "...                                                  ...  \n",
       "11927  Preheat the oven to 375 degrees F (190 degrees...  \n",
       "11928  In a large bowl, beat cream cheese and sugar u...  \n",
       "11929  In a large bowl, combine all-purpose, self-ris...  \n",
       "11930  Preheat oven to 375 degrees F (190 degrees C.)...  \n",
       "11931  Preheat oven to 425 degrees F (220 degrees C.)...  \n",
       "11932  Preheat oven to 350 degrees F (175 degrees C)....  \n",
       "11933  Preheat oven to 425 degrees F (220 degrees C)....  \n",
       "11934  Heat the cranberry juice in a medium saucepan ...  \n",
       "11935  In a medium bowl, mix green onions, garlic, ol...  \n",
       "11936  Place sweet potatoes in a large saucepan with ...  \n",
       "11937  Preheat oven to 350 degrees F (175 degrees C)....  \n",
       "11938  Preheat oven to 325 degrees F (165 degrees C)....  \n",
       "11939  In a medium bowl, mix applesauce, ketchup, pac...  \n",
       "11940  In a large bowl, mix seasoning salt, paprika, ...  \n",
       "11941  'In a small bowl, mix mayonnaise, garlic, oreg...  \n",
       "11942  Submerge untreated cedar plank in water. Soak ...  \n",
       "11943  In a large baking dish, mix together the pinea...  \n",
       "11944  Heat oil over medium-high heat in a cast iron ...  \n",
       "11945  PREHEAT oven to 450 degrees F.  Place pizza cr...  \n",
       "11946  Preheat the oven to 375 degrees F (190 degrees...  \n",
       "11947  Preheat the oven to 400 degrees F (200 degrees...  \n",
       "11948  Preheat the oven to 350 degrees F (175 degrees...  \n",
       "11949  In a medium bowl, cream together the butter an...  \n",
       "11950  Preheat the oven to 400 degrees F (200 degrees...  \n",
       "11951  Preheat oven to 350 degrees F (175 degrees C)....  \n",
       "11952  'In a large bowl, combine confectioners'' suga...  \n",
       "11953  Preheat oven to 275 degrees F (135 degrees C)....  \n",
       "11954  Preheat oven to 350 degrees F (175 degrees C)....  \n",
       "11955  Preheat oven to 350 degrees F (175 degrees C)....  \n",
       "11956  Preheat oven to 350 degrees F (175 degrees C)....  \n",
       "\n",
       "[11957 rows x 2 columns]"
      ]
     },
     "execution_count": 191,
     "metadata": {},
     "output_type": "execute_result"
    }
   ],
   "source": [
    "recipes"
   ]
  },
  {
   "cell_type": "markdown",
   "metadata": {},
   "source": [
    "### Data preprocessing"
   ]
  },
  {
   "cell_type": "code",
   "execution_count": 192,
   "metadata": {},
   "outputs": [],
   "source": [
    "def input_preprocessing(recipe):\n",
    "    recipe = recipe.lower()\n",
    "    # remove numbers\n",
    "    recipe = re.sub('\\d+', '', recipe)\n",
    "    # remove special symbols\n",
    "    recipe = re.sub('[^a-zA-z\\s]', '', recipe)\n",
    "    # remove single characters\n",
    "    recipe = re.sub(' . |.- | -.', ' ', recipe)\n",
    "    # replace multiple spaces by just one space\n",
    "    recipe = re.sub(' +', ' ', recipe)\n",
    "    recipe = re.sub(' $', '', recipe)\n",
    "    \n",
    "    return recipe"
   ]
  },
  {
   "cell_type": "code",
   "execution_count": 193,
   "metadata": {},
   "outputs": [],
   "source": [
    "def ingredient_preprocessing(ingredients):\n",
    "    ingredients = ingredients.lower()\n",
    "    ingredients = re.sub('\\d+', '', ingredients)\n",
    "    ingredients = re.sub('[^a-zA-z\\s,]', '', ingredients)\n",
    "    \n",
    "    return ingredients"
   ]
  },
  {
   "cell_type": "code",
   "execution_count": 194,
   "metadata": {},
   "outputs": [],
   "source": [
    "recipes.Directions = recipes.Directions.apply(lambda e: input_preprocessing(e))"
   ]
  },
  {
   "cell_type": "code",
   "execution_count": 195,
   "metadata": {},
   "outputs": [],
   "source": [
    "recipes.Ingredients = recipes.Ingredients.apply(lambda i: ingredient_preprocessing(i))"
   ]
  },
  {
   "cell_type": "markdown",
   "metadata": {},
   "source": [
    "### Map each word from the recipes to an index"
   ]
  },
  {
   "cell_type": "code",
   "execution_count": 196,
   "metadata": {},
   "outputs": [],
   "source": [
    "t = Tokenizer()\n",
    "t.fit_on_texts(list(recipes.Directions))"
   ]
  },
  {
   "cell_type": "code",
   "execution_count": 295,
   "metadata": {},
   "outputs": [],
   "source": [
    "# Save tokenizer for inference phase\n",
    "with open('tokenizer.pickle', 'wb') as handle:\n",
    "    pickle.dump(t, handle, protocol=pickle.HIGHEST_PROTOCOL)"
   ]
  },
  {
   "cell_type": "code",
   "execution_count": 197,
   "metadata": {},
   "outputs": [],
   "source": [
    "vocab_size = len(t.word_index)\n",
    "encoded_recipes = t.texts_to_sequences(list(recipes.Directions))"
   ]
  },
  {
   "cell_type": "code",
   "execution_count": 230,
   "metadata": {},
   "outputs": [],
   "source": [
    "max_len_recipe = max([len(r) for r in encoded_recipes])"
   ]
  },
  {
   "cell_type": "code",
   "execution_count": 231,
   "metadata": {},
   "outputs": [
    {
     "data": {
      "text/plain": [
       "490"
      ]
     },
     "execution_count": 231,
     "metadata": {},
     "output_type": "execute_result"
    }
   ],
   "source": [
    "max_len_recipe"
   ]
  },
  {
   "cell_type": "code",
   "execution_count": 243,
   "metadata": {},
   "outputs": [
    {
     "name": "stdout",
     "output_type": "stream",
     "text": [
      "Number of unique words is: 13696\n"
     ]
    }
   ],
   "source": [
    "print('Number of unique words is:', vocab_size)"
   ]
  },
  {
   "cell_type": "code",
   "execution_count": 201,
   "metadata": {},
   "outputs": [
    {
     "data": {
      "image/png": "[encoded data removed]",
      "text/plain": [
       "<matplotlib.figure.Figure at 0x220e3e1ffd0>"
      ]
     },
     "metadata": {
      "needs_background": "light"
     },
     "output_type": "display_data"
    }
   ],
   "source": [
    "# We observe that most of the recipes have between 0 and 100 words\n",
    "plt.hist([len(r) for r in encoded_recipes], bins=50)\n",
    "plt.title('Frequency of each recipe length')\n",
    "plt.xlabel('Length of recipe')\n",
    "plt.ylabel('No of recipes with that length')\n",
    "plt.show()"
   ]
  },
  {
   "cell_type": "markdown",
   "metadata": {},
   "source": [
    "### Each word from the recipe will be tagged as ingredient (1) or not ingredient (2)"
   ]
  },
  {
   "cell_type": "code",
   "execution_count": 278,
   "metadata": {},
   "outputs": [],
   "source": [
    "def tag_recipe(recipe, ingredients):\n",
    "    recipe_words = re.split(' ', recipe)\n",
    "    tagged_recipe = []\n",
    "    \n",
    "    for w in recipe_words:\n",
    "        if any([i for i in ingredients if i in w]):\n",
    "            tagged_recipe.append(1)\n",
    "        else:\n",
    "            tagged_recipe.append(0)\n",
    "    \n",
    "    return tagged_recipe"
   ]
  },
  {
   "cell_type": "code",
   "execution_count": 279,
   "metadata": {},
   "outputs": [],
   "source": [
    "encoded_tags = []\n",
    "\n",
    "for i, r in recipes.iterrows():\n",
    "    encoded_tags.append(tag_recipe(r['Directions'], r['Ingredients'].split(',')))\n",
    "    \n",
    "    assert len(encoded_tags[-1]) == len(encoded_recipes[i])"
   ]
  },
  {
   "cell_type": "markdown",
   "metadata": {},
   "source": [
    "### Prepare data for training and testing"
   ]
  },
  {
   "cell_type": "code",
   "execution_count": 271,
   "metadata": {},
   "outputs": [],
   "source": [
    "encoded_recipes = [(np.array(e) - 1).tolist() for e in encoded_recipes]"
   ]
  },
  {
   "cell_type": "code",
   "execution_count": 283,
   "metadata": {},
   "outputs": [],
   "source": [
    "X = pad_sequences(maxlen=max_len_recipe, sequences=encoded_recipes, padding=\"post\", value=vocab_size-1)\n",
    "y = pad_sequences(maxlen=max_len_recipe, sequences=encoded_tags, padding=\"post\", value=0)"
   ]
  },
  {
   "cell_type": "code",
   "execution_count": 214,
   "metadata": {},
   "outputs": [
    {
     "data": {
      "text/plain": [
       "array([[  486,   536,     3, ..., 13696, 13696, 13696],\n",
       "       [   31,    12,     4, ..., 13696, 13696, 13696],\n",
       "       [   31,    12,     4, ..., 13696, 13696, 13696],\n",
       "       ...,\n",
       "       [   31,    12,     4, ..., 13696, 13696, 13696],\n",
       "       [   31,    12,     4, ..., 13696, 13696, 13696],\n",
       "       [   31,    12,     4, ..., 13696, 13696, 13696]])"
      ]
     },
     "execution_count": 214,
     "metadata": {},
     "output_type": "execute_result"
    }
   ],
   "source": [
    "X"
   ]
  },
  {
   "cell_type": "code",
   "execution_count": 215,
   "metadata": {},
   "outputs": [
    {
     "data": {
      "text/plain": [
       "array([[2, 1, 2, ..., 2, 2, 2],\n",
       "       [2, 2, 2, ..., 2, 2, 2],\n",
       "       [2, 2, 2, ..., 2, 2, 2],\n",
       "       ...,\n",
       "       [2, 2, 2, ..., 2, 2, 2],\n",
       "       [2, 2, 2, ..., 2, 2, 2],\n",
       "       [2, 2, 2, ..., 2, 2, 2]])"
      ]
     },
     "execution_count": 215,
     "metadata": {},
     "output_type": "execute_result"
    }
   ],
   "source": [
    "y"
   ]
  },
  {
   "cell_type": "code",
   "execution_count": 284,
   "metadata": {},
   "outputs": [],
   "source": [
    "x_train, x_test, y_train, y_test = train_test_split(X, y, test_size=0.2, random_state=1)"
   ]
  },
  {
   "cell_type": "code",
   "execution_count": 285,
   "metadata": {},
   "outputs": [
    {
     "data": {
      "text/plain": [
       "9565"
      ]
     },
     "execution_count": 285,
     "metadata": {},
     "output_type": "execute_result"
    }
   ],
   "source": [
    "len(x_train)"
   ]
  },
  {
   "cell_type": "code",
   "execution_count": 286,
   "metadata": {},
   "outputs": [
    {
     "data": {
      "text/plain": [
       "2392"
      ]
     },
     "execution_count": 286,
     "metadata": {},
     "output_type": "execute_result"
    }
   ],
   "source": [
    "len(x_test)"
   ]
  },
  {
   "cell_type": "markdown",
   "metadata": {},
   "source": [
    "### Build and train a Bi-LSTM model"
   ]
  },
  {
   "cell_type": "code",
   "execution_count": 287,
   "metadata": {},
   "outputs": [],
   "source": [
    "input_recipe = Input(shape=(max_len_recipe,))\n",
    "model = Embedding(input_dim=vocab_size, output_dim=100, input_length=max_len_recipe)(input_recipe)\n",
    "model = SpatialDropout1D(0.1)(model)\n",
    "model = Bidirectional(LSTM(units=100, return_sequences=True, recurrent_dropout=0.1))(model)\n",
    "out = Dense(2, activation=\"softmax\")(model)"
   ]
  },
  {
   "cell_type": "code",
   "execution_count": 288,
   "metadata": {},
   "outputs": [],
   "source": [
    "model = Model(input_recipe, out)"
   ]
  },
  {
   "cell_type": "code",
   "execution_count": 289,
   "metadata": {},
   "outputs": [
    {
     "name": "stdout",
     "output_type": "stream",
     "text": [
      "Model: \"model_6\"\n",
      "_________________________________________________________________\n",
      "Layer (type)                 Output Shape              Param #   \n",
      "=================================================================\n",
      "input_11 (InputLayer)        [(None, 490)]             0         \n",
      "_________________________________________________________________\n",
      "embedding_10 (Embedding)     (None, 490, 100)          1369600   \n",
      "_________________________________________________________________\n",
      "spatial_dropout1d_7 (Spatial (None, 490, 100)          0         \n",
      "_________________________________________________________________\n",
      "bidirectional_7 (Bidirection (None, 490, 200)          160800    \n",
      "_________________________________________________________________\n",
      "dense_6 (Dense)              (None, 490, 2)            402       \n",
      "=================================================================\n",
      "Total params: 1,530,802\n",
      "Trainable params: 1,530,802\n",
      "Non-trainable params: 0\n",
      "_________________________________________________________________\n"
     ]
    }
   ],
   "source": [
    "model.summary()"
   ]
  },
  {
   "cell_type": "code",
   "execution_count": 290,
   "metadata": {},
   "outputs": [],
   "source": [
    "model.compile(optimizer=\"adam\",\n",
    "              loss=\"sparse_categorical_crossentropy\",\n",
    "              metrics=[\"accuracy\"])"
   ]
  },
  {
   "cell_type": "code",
   "execution_count": 291,
   "metadata": {},
   "outputs": [],
   "source": [
    "ckpt = ModelCheckpoint(\"models/model_weights.h5\", monitor='val_loss',verbose=1, save_best_only=True, save_weights_only=True, mode='min')\n",
    "early_stopping = EarlyStopping(monitor='val_accuracy', min_delta=0, patience=1, verbose=0, mode='max', baseline=None, restore_best_weights=False)\n",
    "\n",
    "callbacks = [ckpt, early_stopping]"
   ]
  },
  {
   "cell_type": "code",
   "execution_count": 292,
   "metadata": {},
   "outputs": [
    {
     "name": "stdout",
     "output_type": "stream",
     "text": [
      "Epoch 1/3\n",
      "299/299 [==============================] - ETA: 0s - loss: 0.0394 - accuracy: 0.9895\n",
      "Epoch 00001: val_loss improved from inf to 0.01177, saving model to models/model_weights.h5\n",
      "299/299 [==============================] - 744s 2s/step - loss: 0.0394 - accuracy: 0.9895 - val_loss: 0.0118 - val_accuracy: 0.9954\n",
      "Epoch 2/3\n",
      "299/299 [==============================] - ETA: 0s - loss: 0.0107 - accuracy: 0.9957\n",
      "Epoch 00002: val_loss improved from 0.01177 to 0.01030, saving model to models/model_weights.h5\n",
      "299/299 [==============================] - 819s 3s/step - loss: 0.0107 - accuracy: 0.9957 - val_loss: 0.0103 - val_accuracy: 0.9959\n",
      "Epoch 3/3\n",
      "299/299 [==============================] - ETA: 0s - loss: 0.0093 - accuracy: 0.9964\n",
      "Epoch 00003: val_loss improved from 0.01030 to 0.00953, saving model to models/model_weights.h5\n",
      "299/299 [==============================] - 855s 3s/step - loss: 0.0093 - accuracy: 0.9964 - val_loss: 0.0095 - val_accuracy: 0.9965\n"
     ]
    }
   ],
   "source": [
    "history = model.fit(\n",
    "    x=x_train,\n",
    "    y=y_train,\n",
    "    validation_data=(x_test, y_test),\n",
    "    batch_size=32,\n",
    "    epochs=3,\n",
    "    callbacks=callbacks,\n",
    "    verbose=1\n",
    ")"
   ]
  },
  {
   "cell_type": "code",
   "execution_count": 293,
   "metadata": {},
   "outputs": [
    {
     "name": "stdout",
     "output_type": "stream",
     "text": [
      "WARNING:tensorflow:From c:\\users\\ioana\\appdata\\local\\programs\\python\\python36\\lib\\site-packages\\tensorflow\\python\\ops\\resource_variable_ops.py:1817: calling BaseResourceVariable.__init__ (from tensorflow.python.ops.resource_variable_ops) with constraint is deprecated and will be removed in a future version.\n",
      "Instructions for updating:\n",
      "If using Keras pass *_constraint arguments to layers.\n",
      "INFO:tensorflow:Assets written to: models/model\\assets\n"
     ]
    }
   ],
   "source": [
    "model.save('models/model')"
   ]
  },
  {
   "cell_type": "code",
   "execution_count": 296,
   "metadata": {},
   "outputs": [
    {
     "data": {
      "text/plain": [
       "dict_keys(['loss', 'accuracy', 'val_loss', 'val_accuracy'])"
      ]
     },
     "execution_count": 296,
     "metadata": {},
     "output_type": "execute_result"
    }
   ],
   "source": [
    "history.history.keys()"
   ]
  },
  {
   "cell_type": "code",
   "execution_count": 303,
   "metadata": {},
   "outputs": [
    {
     "name": "stdout",
     "output_type": "stream",
     "text": [
      "75/75 [==============================] - 41s 550ms/step - loss: 0.0095 - accuracy: 0.9965\n"
     ]
    },
    {
     "data": {
      "text/plain": [
       "[0.009532571770250797, 0.9964507818222046]"
      ]
     },
     "execution_count": 303,
     "metadata": {},
     "output_type": "execute_result"
    }
   ],
   "source": [
    "model.evaluate(x_test, y_test)"
   ]
  },
  {
   "cell_type": "markdown",
   "metadata": {},
   "source": [
    "### Plot model performance"
   ]
  },
  {
   "cell_type": "code",
   "execution_count": 301,
   "metadata": {},
   "outputs": [
    {
     "data": {
      "image/png": "[encoded data removed]",
      "text/plain": [
       "<matplotlib.figure.Figure at 0x220f4ea5ac8>"
      ]
     },
     "metadata": {
      "needs_background": "light"
     },
     "output_type": "display_data"
    }
   ],
   "source": [
    "plt.plot(history.history['loss'])\n",
    "plt.plot(history.history['val_loss'])\n",
    "plt.title('model loss')\n",
    "plt.ylabel('loss')\n",
    "plt.xlabel('epoch')\n",
    "plt.legend(['train', 'test'], loc='upper left')\n",
    "plt.show()"
   ]
  },
  {
   "cell_type": "code",
   "execution_count": 302,
   "metadata": {},
   "outputs": [
    {
     "data": {
      "image/png": "[encoded data removed]",
      "text/plain": [
       "<matplotlib.figure.Figure at 0x22138f46048>"
      ]
     },
     "metadata": {
      "needs_background": "light"
     },
     "output_type": "display_data"
    }
   ],
   "source": [
    "plt.plot(history.history['accuracy'])\n",
    "plt.plot(history.history['val_accuracy'])\n",
    "plt.title('model accuracy')\n",
    "plt.ylabel('accuracy')\n",
    "plt.xlabel('epoch')\n",
    "plt.legend(['train', 'test'], loc='upper left')\n",
    "plt.show()"
   ]
  },
  {
   "cell_type": "code",
   "execution_count": null,
   "metadata": {},
   "outputs": [],
   "source": []
  }
 ],
 "metadata": {
  "kernelspec": {
   "display_name": "Python 3",
   "language": "python",
   "name": "python3"
  },
  "language_info": {
   "codemirror_mode": {
    "name": "ipython",
    "version": 3
   },
   "file_extension": ".py",
   "mimetype": "text/x-python",
   "name": "python",
   "nbconvert_exporter": "python",
   "pygments_lexer": "ipython3",
   "version": "3.6.8"
  }
 },
 "nbformat": 4,
 "nbformat_minor": 2
}
